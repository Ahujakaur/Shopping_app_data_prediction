{
 "cells": [
  {
   "cell_type": "markdown",
   "id": "e10cb60a",
   "metadata": {},
   "source": [
    "# Load the Dataset"
   ]
  },
  {
   "cell_type": "code",
   "execution_count": 5,
   "id": "5bcd8b04",
   "metadata": {},
   "outputs": [],
   "source": [
    "import pandas as pd\n",
    "import matplotlib.pyplot as plt\n",
    "df = pd.read_csv('2019-Dec.csv')"
   ]
  },
  {
   "cell_type": "code",
   "execution_count": 6,
   "id": "e2665fda",
   "metadata": {},
   "outputs": [
    {
     "data": {
      "text/html": [
       "<div>\n",
       "<style scoped>\n",
       "    .dataframe tbody tr th:only-of-type {\n",
       "        vertical-align: middle;\n",
       "    }\n",
       "\n",
       "    .dataframe tbody tr th {\n",
       "        vertical-align: top;\n",
       "    }\n",
       "\n",
       "    .dataframe thead th {\n",
       "        text-align: right;\n",
       "    }\n",
       "</style>\n",
       "<table border=\"1\" class=\"dataframe\">\n",
       "  <thead>\n",
       "    <tr style=\"text-align: right;\">\n",
       "      <th></th>\n",
       "      <th>event_time</th>\n",
       "      <th>event_type</th>\n",
       "      <th>product_id</th>\n",
       "      <th>category_id</th>\n",
       "      <th>category_code</th>\n",
       "      <th>brand</th>\n",
       "      <th>price</th>\n",
       "      <th>user_id</th>\n",
       "      <th>user_session</th>\n",
       "    </tr>\n",
       "  </thead>\n",
       "  <tbody>\n",
       "    <tr>\n",
       "      <th>0</th>\n",
       "      <td>2019-12-01 00:00:00 UTC</td>\n",
       "      <td>remove_from_cart</td>\n",
       "      <td>5712790</td>\n",
       "      <td>1487580005268456287</td>\n",
       "      <td>NaN</td>\n",
       "      <td>f.o.x</td>\n",
       "      <td>6.27</td>\n",
       "      <td>576802932</td>\n",
       "      <td>51d85cb0-897f-48d2-918b-ad63965c12dc</td>\n",
       "    </tr>\n",
       "    <tr>\n",
       "      <th>1</th>\n",
       "      <td>2019-12-01 00:00:00 UTC</td>\n",
       "      <td>view</td>\n",
       "      <td>5764655</td>\n",
       "      <td>1487580005411062629</td>\n",
       "      <td>NaN</td>\n",
       "      <td>cnd</td>\n",
       "      <td>29.05</td>\n",
       "      <td>412120092</td>\n",
       "      <td>8adff31e-2051-4894-9758-224bfa8aec18</td>\n",
       "    </tr>\n",
       "    <tr>\n",
       "      <th>2</th>\n",
       "      <td>2019-12-01 00:00:02 UTC</td>\n",
       "      <td>cart</td>\n",
       "      <td>4958</td>\n",
       "      <td>1487580009471148064</td>\n",
       "      <td>NaN</td>\n",
       "      <td>runail</td>\n",
       "      <td>1.19</td>\n",
       "      <td>494077766</td>\n",
       "      <td>c99a50e8-2fac-4c4d-89ec-41c05f114554</td>\n",
       "    </tr>\n",
       "    <tr>\n",
       "      <th>3</th>\n",
       "      <td>2019-12-01 00:00:05 UTC</td>\n",
       "      <td>view</td>\n",
       "      <td>5848413</td>\n",
       "      <td>1487580007675986893</td>\n",
       "      <td>NaN</td>\n",
       "      <td>freedecor</td>\n",
       "      <td>0.79</td>\n",
       "      <td>348405118</td>\n",
       "      <td>722ffea5-73c0-4924-8e8f-371ff8031af4</td>\n",
       "    </tr>\n",
       "    <tr>\n",
       "      <th>4</th>\n",
       "      <td>2019-12-01 00:00:07 UTC</td>\n",
       "      <td>view</td>\n",
       "      <td>5824148</td>\n",
       "      <td>1487580005511725929</td>\n",
       "      <td>NaN</td>\n",
       "      <td>NaN</td>\n",
       "      <td>5.56</td>\n",
       "      <td>576005683</td>\n",
       "      <td>28172809-7e4a-45ce-bab0-5efa90117cd5</td>\n",
       "    </tr>\n",
       "  </tbody>\n",
       "</table>\n",
       "</div>"
      ],
      "text/plain": [
       "                event_time        event_type  product_id          category_id  \\\n",
       "0  2019-12-01 00:00:00 UTC  remove_from_cart     5712790  1487580005268456287   \n",
       "1  2019-12-01 00:00:00 UTC              view     5764655  1487580005411062629   \n",
       "2  2019-12-01 00:00:02 UTC              cart        4958  1487580009471148064   \n",
       "3  2019-12-01 00:00:05 UTC              view     5848413  1487580007675986893   \n",
       "4  2019-12-01 00:00:07 UTC              view     5824148  1487580005511725929   \n",
       "\n",
       "  category_code      brand  price    user_id  \\\n",
       "0           NaN      f.o.x   6.27  576802932   \n",
       "1           NaN        cnd  29.05  412120092   \n",
       "2           NaN     runail   1.19  494077766   \n",
       "3           NaN  freedecor   0.79  348405118   \n",
       "4           NaN        NaN   5.56  576005683   \n",
       "\n",
       "                           user_session  \n",
       "0  51d85cb0-897f-48d2-918b-ad63965c12dc  \n",
       "1  8adff31e-2051-4894-9758-224bfa8aec18  \n",
       "2  c99a50e8-2fac-4c4d-89ec-41c05f114554  \n",
       "3  722ffea5-73c0-4924-8e8f-371ff8031af4  \n",
       "4  28172809-7e4a-45ce-bab0-5efa90117cd5  "
      ]
     },
     "execution_count": 6,
     "metadata": {},
     "output_type": "execute_result"
    }
   ],
   "source": [
    "df.head(5)"
   ]
  },
  {
   "cell_type": "code",
   "execution_count": null,
   "id": "d3292f36",
   "metadata": {},
   "outputs": [],
   "source": [
    "plt.plot(df['event_type'], df['user_session'],df['brand']) \n"
   ]
  },
  {
   "cell_type": "markdown",
   "id": "e8192b00",
   "metadata": {},
   "source": [
    "# Filter Relevant Data"
   ]
  },
  {
   "cell_type": "code",
   "execution_count": null,
   "id": "86d38fe2",
   "metadata": {},
   "outputs": [],
   "source": [
    "sales_funnel_data = df[df['event_type'].isin(['view', 'purchase'])]"
   ]
  },
  {
   "cell_type": "code",
   "execution_count": null,
   "id": "da0f1935",
   "metadata": {},
   "outputs": [],
   "source": [
    "import matplotlib.pyplot as plt"
   ]
  },
  {
   "cell_type": "markdown",
   "id": "2965164b",
   "metadata": {},
   "source": [
    "# Bar Plot for Sales_funnel_data"
   ]
  },
  {
   "cell_type": "code",
   "execution_count": null,
   "id": "5a20ba76",
   "metadata": {},
   "outputs": [],
   "source": [
    "\n",
    "sales_funnel_data = df[df['event_type'].isin(['view', 'purchase'])]\n",
    "\n",
    "\n",
    "user_counts = sales_funnel_data['event_type'].value_counts()\n",
    "\n",
    "\n",
    "plt.bar(user_counts.index, user_counts.values)\n",
    "\n",
    "\n",
    "plt.xlabel('Event Type')\n",
    "plt.ylabel('Number of Users')\n",
    "plt.title('Sales Funnel: Visits to Purchase')\n",
    "\n",
    "\n",
    "plt.show()\n"
   ]
  },
  {
   "cell_type": "code",
   "execution_count": null,
   "id": "fe547374",
   "metadata": {
    "scrolled": true
   },
   "outputs": [],
   "source": [
    "df.head(5)"
   ]
  },
  {
   "cell_type": "markdown",
   "id": "f52002b6",
   "metadata": {},
   "source": [
    "# Calculate the Sales Funnel"
   ]
  },
  {
   "cell_type": "code",
   "execution_count": null,
   "id": "46f51d8f",
   "metadata": {},
   "outputs": [],
   "source": [
    "sales_funnel = sales_funnel_data.groupby(['user_id', 'event_type'])['event_type'].count().unstack(fill_value=0)\n",
    "conversion_rate = sales_funnel['purchase'] / sales_funnel['view']"
   ]
  },
  {
   "cell_type": "markdown",
   "id": "fd87a4da",
   "metadata": {},
   "source": [
    "# Track Daily Conversion Rate (Purchase / Visits)"
   ]
  },
  {
   "cell_type": "code",
   "execution_count": null,
   "id": "afc8d6e4",
   "metadata": {},
   "outputs": [],
   "source": [
    "daily_conversion_data = df[df['event_type'].isin(['view', 'purchase'])]\n"
   ]
  },
  {
   "cell_type": "code",
   "execution_count": null,
   "id": "4b7dc6b1",
   "metadata": {},
   "outputs": [],
   "source": [
    "daily_conversion = daily_conversion_data.groupby(['event_time', 'event_type'])['event_type'].count().unstack(fill_value=0)\n",
    "daily_conversion_rate = daily_conversion['purchase'] / daily_conversion['view']\n"
   ]
  },
  {
   "cell_type": "markdown",
   "id": "01c80a38",
   "metadata": {},
   "source": [
    "# Understand Products/Brands Driving Sale"
   ]
  },
  {
   "cell_type": "code",
   "execution_count": null,
   "id": "1b44f571",
   "metadata": {},
   "outputs": [],
   "source": [
    "purchase_data = df[df['event_type'] == 'purchase']\n"
   ]
  },
  {
   "cell_type": "code",
   "execution_count": null,
   "id": "ee94679d",
   "metadata": {},
   "outputs": [],
   "source": [
    "purchase_data.info()"
   ]
  },
  {
   "cell_type": "markdown",
   "id": "08d84b05",
   "metadata": {},
   "source": [
    "# Analyze Products and Brands:"
   ]
  },
  {
   "cell_type": "code",
   "execution_count": null,
   "id": "a63f411d",
   "metadata": {},
   "outputs": [],
   "source": [
    "top_products = purchase_data['product_id'].value_counts().head(10)\n",
    "top_brands = purchase_data['brand'].value_counts().head(10)\n"
   ]
  },
  {
   "cell_type": "code",
   "execution_count": null,
   "id": "b5093fe7",
   "metadata": {},
   "outputs": [],
   "source": [
    "top_products.head(5)"
   ]
  },
  {
   "cell_type": "code",
   "execution_count": null,
   "id": "91a085b8",
   "metadata": {},
   "outputs": [],
   "source": [
    "top_brands.head(5)"
   ]
  },
  {
   "cell_type": "code",
   "execution_count": null,
   "id": "0cefe18f",
   "metadata": {},
   "outputs": [],
   "source": []
  }
 ],
 "metadata": {
  "kernelspec": {
   "display_name": "Python 3 (ipykernel)",
   "language": "python",
   "name": "python3"
  },
  "language_info": {
   "codemirror_mode": {
    "name": "ipython",
    "version": 3
   },
   "file_extension": ".py",
   "mimetype": "text/x-python",
   "name": "python",
   "nbconvert_exporter": "python",
   "pygments_lexer": "ipython3",
   "version": "3.11.4"
  }
 },
 "nbformat": 4,
 "nbformat_minor": 5
}
